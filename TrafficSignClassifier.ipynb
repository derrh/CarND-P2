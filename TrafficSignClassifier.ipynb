{
 "cells": [
  {
   "cell_type": "markdown",
   "metadata": {},
   "source": [
    "# Project: Traffic Sign Classifier\n",
    "\n",
    "By Derrick Hathaway\n",
    "<br/>November 11, 2017\n",
    "\n",
    "## The Dataset\n",
    "\n",
    "We will be training a model to classify traffice signs from the German [Traffic Sign Dataset](http://benchmark.ini.rub.de/?section=gtsrb&subsection=dataset).\n",
    "\n",
    "We will start by loading our data set which has been subdivided into three subsets: a training set which will be used to train the model, a validation set that we will use to validate the progress of our training, and a test set. Once training is complete we will use the test set to determine the accuracy of our final model."
   ]
  },
  {
   "cell_type": "code",
   "execution_count": 1,
   "metadata": {
    "collapsed": true
   },
   "outputs": [],
   "source": [
    "import pickle\n",
    "import numpy as np\n",
    "\n",
    "training_file = 'train.p'\n",
    "validation_file = 'valid.p'\n",
    "test_file = 'test.p'\n",
    "\n",
    "with open(training_file, mode='rb') as f:\n",
    "    train = pickle.load(f)\n",
    "with open(validation_file, mode='rb') as f:\n",
    "    valid = pickle.load(f)\n",
    "with open(test_file, mode='rb') as f:\n",
    "    test = pickle.load(f)\n",
    "\n",
    "X_train_in, y_train = train['features'], train['labels'].astype(np.uint8)\n",
    "X_valid_in, y_valid = valid['features'], valid['labels'].astype(np.uint8)\n",
    "X_test_in, y_test = test['features'], test['labels'].astype(np.uint8)"
   ]
  },
  {
   "cell_type": "markdown",
   "metadata": {},
   "source": [
    "## Preparing the Data\n",
    "\n",
    "In order to improve training performance, we will take certain steps to condition the input data.\n",
    "\n",
    "First we will do a histogram equalization on the image to improve contrast. This effectively spreads out the input data over a broader range.\n",
    "\n",
    "Next, we will adjust the input data so that the range for each pixel is `(-1.0, 1.0]`.\n",
    "\n",
    "Next we will shuffle the training data so that the features and labels are encountered by the optimizer in a random order. If the input data are ordered, this can make it difficult for our network to converge on an acceptable solution."
   ]
  },
  {
   "cell_type": "code",
   "execution_count": 2,
   "metadata": {
    "collapsed": true
   },
   "outputs": [],
   "source": [
    "import cv2\n",
    "\n",
    "def adjust(x):\n",
    "    for i in range(len(x)):\n",
    "        img_yuv = cv2.cvtColor(x[i], cv2.COLOR_RGB2YUV)\n",
    "        img_yuv[:,:,0] = cv2.equalizeHist(img_yuv[:,:,0])\n",
    "        x[i] = cv2.cvtColor(img_yuv, cv2.COLOR_YUV2RGB)\n",
    "    \n",
    "    return x.astype(np.float32) / 255\n",
    "\n",
    "X_train = adjust(X_train_in)\n",
    "X_valid = adjust(X_valid_in)\n",
    "X_test = adjust(X_test_in)\n",
    "\n",
    "from sklearn.utils import shuffle\n",
    "X_train, y_train = shuffle(X_train, y_train)"
   ]
  },
  {
   "cell_type": "markdown",
   "metadata": {},
   "source": [
    "## Visualizing the Data\n",
    "\n",
    "Below is a random sample from the training dataset."
   ]
  },
  {
   "cell_type": "code",
   "execution_count": 3,
   "metadata": {
    "collapsed": true,
    "scrolled": true
   },
   "outputs": [],
   "source": [
    "import csv\n",
    "sign_names = []\n",
    "with open('samples/signnames.csv', 'r') as f:\n",
    "    data = list(csv.reader(f))\n",
    "    for i, sign_name in data:\n",
    "        sign_names.append(sign_name)\n",
    "\n",
    "def sign_name(num):\n",
    "    sign_names[num]\n"
   ]
  },
  {
   "cell_type": "code",
   "execution_count": 10,
   "metadata": {
    "scrolled": true
   },
   "outputs": [
    {
     "name": "stdout",
     "output_type": "stream",
     "text": [
      "Number of training examples = 34799\n",
      "Number of validation examples = 4410\n",
      "Number of testing examples = 12630\n",
      "Image data shape = (32, 32, 3)\n",
      "Number of classes = 43\n",
      "2     240\n",
      "1     240\n",
      "13    240\n",
      "10    210\n",
      "4     210\n",
      "5     210\n",
      "38    210\n",
      "12    210\n",
      "25    150\n",
      "3     150\n",
      "7     150\n",
      "11    150\n",
      "9     150\n",
      "8     150\n",
      "17    120\n",
      "35    120\n",
      "18    120\n",
      "33     90\n",
      "14     90\n",
      "15     90\n",
      "31     90\n",
      "6      60\n",
      "28     60\n",
      "36     60\n",
      "16     60\n",
      "22     60\n",
      "20     60\n",
      "26     60\n",
      "21     60\n",
      "30     60\n",
      "34     60\n",
      "23     60\n",
      "40     60\n",
      "39     30\n",
      "24     30\n",
      "41     30\n",
      "32     30\n",
      "29     30\n",
      "37     30\n",
      "42     30\n",
      "19     30\n",
      "27     30\n",
      "0      30\n",
      "dtype: int64\n"
     ]
    }
   ],
   "source": [
    "n_train = len(y_train)\n",
    "n_validation = len(y_valid)\n",
    "n_test = len(y_test)\n",
    "image_shape = X_train[0].shape\n",
    "unique = np.unique(y_train)\n",
    "\n",
    "print(\"Number of training examples =\", n_train)\n",
    "print(\"Number of validation examples =\", n_validation)\n",
    "print(\"Number of testing examples =\", n_test)\n",
    "print(\"Image data shape =\", image_shape)\n",
    "print(\"Number of classes =\", len(unique))\n",
    "\n",
    "import pandas as pd\n",
    "\n",
    "counts = pd.value_counts(pd.Series(y_valid))\n",
    "print(counts)\n"
   ]
  },
  {
   "cell_type": "code",
   "execution_count": 5,
   "metadata": {
    "scrolled": true
   },
   "outputs": [
    {
     "name": "stdout",
     "output_type": "stream",
     "text": [
      "Label Speed limit (80km/h)\n"
     ]
    },
    {
     "data": {
      "image/png": "[encoded data removed]",
      "text/plain": [
       "<matplotlib.figure.Figure at 0x7f5e0db8e8d0>"
      ]
     },
     "metadata": {},
     "output_type": "display_data"
    }
   ],
   "source": [
    "import random\n",
    "import matplotlib.pyplot as plt\n",
    "%matplotlib inline\n",
    "\n",
    "index = random.randint(0, len(X_train))\n",
    "image = X_train[index].squeeze()\n",
    "\n",
    "plt.figure(figsize=(2,2))\n",
    "\n",
    "plt.imshow(image)\n",
    "plt.axis('off')\n",
    "print(\"Label\", sign_names[y_train[index]])"
   ]
  },
  {
   "cell_type": "markdown",
   "metadata": {},
   "source": [
    "## Model Hyperparameters\n",
    "\n",
    "These are a few of the levers we can turn to adjust the training performance. These include the batch size, the number of epochs, the dropout rate used during training, the mean and standard deviation of our initial random weights, and the learning rate."
   ]
  },
  {
   "cell_type": "code",
   "execution_count": 6,
   "metadata": {
    "collapsed": true
   },
   "outputs": [],
   "source": [
    "EPOCHS = 10\n",
    "BATCH_SIZE = 128\n",
    "dropout = 0.50\n",
    "\n",
    "mu = 0\n",
    "sigma = 0.1\n",
    "\n",
    "learn_rate = 0.001"
   ]
  },
  {
   "cell_type": "markdown",
   "metadata": {},
   "source": [
    "## Helper Functions\n",
    "\n",
    "I've created some helper functions to help make the structure of my model more readable. This was very useful during development because it allowed me to adjust the size of the layers and make other changes with confidence."
   ]
  },
  {
   "cell_type": "code",
   "execution_count": 7,
   "metadata": {
    "collapsed": true
   },
   "outputs": [],
   "source": [
    "import tensorflow as tf\n",
    "\n",
    "def weights(shape):\n",
    "    return tf.truncated_normal(shape=shape, mean=mu, stddev=sigma)\n",
    "\n",
    "def conv2d(x, W, b, strides=1):\n",
    "    x = tf.nn.conv2d(\n",
    "        x,\n",
    "        W,\n",
    "        strides=[1, strides, strides, 1],\n",
    "        padding='VALID')\n",
    "    \n",
    "    x = tf.nn.bias_add(x, b)\n",
    "    return tf.nn.relu(x)\n",
    "\n",
    "def maxpool2d(x, k=2):\n",
    "    return tf.nn.max_pool(\n",
    "        x,\n",
    "        ksize=[1, k, k, 1],\n",
    "        strides=[1, k, k, 1],\n",
    "        padding='VALID')"
   ]
  },
  {
   "cell_type": "markdown",
   "metadata": {},
   "source": [
    "## The LeNet Model\n",
    "\n",
    "I used the LeNet-5 model from the CNN Lesson as a starting point. I found that increasing the k-size of the convolution layers, as well as the size of the fully connected layers improved training performance significantly. The road sign images are more complex than black and white handwrittend digits so more depth in the convolutional layers is necessary."
   ]
  },
  {
   "cell_type": "code",
   "execution_count": 8,
   "metadata": {
    "collapsed": true
   },
   "outputs": [],
   "source": [
    "from tensorflow.contrib.layers import flatten\n",
    "\n",
    "weights = {\n",
    "    'conv0': tf.Variable(weights([5,5,3,24])),\n",
    "    'conv1': tf.Variable(weights([5,5,24,64])),\n",
    "    'fc1': tf.Variable(weights([1600, 600])),\n",
    "    'fc2': tf.Variable(weights([600, 200])),\n",
    "    'fc3': tf.Variable(weights([200, 43])),\n",
    "}\n",
    "\n",
    "bias = {\n",
    "    'conv0': tf.Variable(tf.zeros(24)),\n",
    "    'conv1': tf.Variable(tf.zeros(64)),\n",
    "    'fc1': tf.Variable(tf.zeros(600)),\n",
    "    'fc2': tf.Variable(tf.zeros(200)),\n",
    "    'fc3': tf.Variable(tf.zeros(43)),\n",
    "}\n",
    "\n",
    "def LeNet(x, dropout):\n",
    "    conv_0 = conv2d(x, weights['conv0'], bias['conv0'])\n",
    "    conv_0 = maxpool2d(conv_0)\n",
    "    \n",
    "    conv_1 = conv2d(conv_0, weights['conv1'], bias['conv1'])\n",
    "    conv_1 = maxpool2d(conv_1)\n",
    "    \n",
    "    flat = flatten(conv_1)\n",
    "    \n",
    "    fc1 = tf.add(tf.matmul(flat, weights['fc1']), bias['fc1'])\n",
    "    fc1 = tf.nn.relu(fc1)\n",
    "    \n",
    "    fc2 = tf.add(tf.matmul(fc1, weights['fc2']), bias['fc2'])\n",
    "    fc2 = tf.nn.relu(fc2)\n",
    "    fc2 = tf.nn.dropout(fc2, dropout)\n",
    "    \n",
    "    fc3 = tf.add(tf.matmul(fc2, weights['fc3']), bias['fc3'])\n",
    "    \n",
    "    return fc3\n",
    "\n",
    "# signs dataset consists of 32x32x3 images\n",
    "x = tf.placeholder(tf.float32, (None, 32, 32, 3))\n",
    "# Classify over 43 road signs labeled 0-42\n",
    "y = tf.placeholder(tf.int32, (None))\n",
    "\n",
    "one_hot_y = tf.one_hot(y, 43)\n",
    "keep_prob = tf.placeholder(tf.float32)\n",
    "\n",
    "logits = LeNet(x, keep_prob)\n",
    "cross_entropy = tf.nn.softmax_cross_entropy_with_logits(labels=one_hot_y,logits=logits)\n",
    "loss_op = tf.reduce_mean(cross_entropy)\n",
    "opt = tf.train.AdamOptimizer(learning_rate=learn_rate)\n",
    "train_op = opt.minimize(loss_op)\n",
    "correct_prediction = tf.equal(tf.argmax(logits, 1), tf.argmax(one_hot_y, 1))\n",
    "accuracy_op = tf.reduce_mean(tf.cast(correct_prediction, tf.float32))"
   ]
  },
  {
   "cell_type": "markdown",
   "metadata": {},
   "source": [
    "## Training & Testing\n",
    "\n",
    "### Method for Improving Performance\n",
    "\n",
    "I started out with the basic LeNet model from the MNIST classifier I built for the CNN Lab. After adapting the shape of the network to account for the 3 color channels of the image I mostly just tried different values for various hyper parameters. Here are some of the changes I made to improve performance.\n",
    "\n",
    "- Adjusting the learning rate. I tried values ranging from `0.01` - `0.0001`. The faster learning rates resulted in sort of erratic results, converging to a fairly high success rate, but very unpredictably. The lower learning rate did not achive a higher success rate, and converged very slowly. In the end I settled on `0.001`.\n",
    "- Implementing dropout. I played around with different dropout rates before arriving at `50%`.\n",
    "- Increasing the depth of the convolution layers and the width of the fully connected layers coupled with dropout also seemed to have pretty big impact on classification performance.\n",
    "- Adjusting the batch size. Larger batch sizes seemed to perform better for me. And I finally settled on a batch size of 128.\n",
    "- I tried various numbers of epochs, ranging from 6 to 20. I found that anything more than 10, give my other parameters tended to diverge slightly. Even now, the model will often peak in performance by about the 7th or 8th epoch. My final selection was 10 epochs.\n",
    "\n",
    "Choosing these parameters felt sort of arbitrary. I just tried tuning each value independently to see how it affected performance. When I felt satisfied with one of the parameter's values, I would tune a different parameter. I also went back occasionally to see if changes to a later parameter effected a previously tuned parameter, tweaking it again to see if a previouly poor value might perform better under new conditions. Tuning these parameter seems like the sort of thing that a computer could perform much better at."
   ]
  },
  {
   "cell_type": "code",
   "execution_count": 9,
   "metadata": {},
   "outputs": [
    {
     "name": "stdout",
     "output_type": "stream",
     "text": [
      "EPOCH 1 ...\n",
      "Validation loss = 0.577\n",
      "Validation accuracy = 0.826\n",
      "\n",
      "EPOCH 2 ...\n",
      "Validation loss = 0.306\n",
      "Validation accuracy = 0.902\n",
      "\n",
      "EPOCH 3 ...\n",
      "Validation loss = 0.264\n",
      "Validation accuracy = 0.921\n",
      "\n",
      "EPOCH 4 ...\n",
      "Validation loss = 0.263\n",
      "Validation accuracy = 0.929\n",
      "\n",
      "EPOCH 5 ...\n",
      "Validation loss = 0.186\n",
      "Validation accuracy = 0.943\n",
      "\n",
      "EPOCH 6 ...\n",
      "Validation loss = 0.209\n",
      "Validation accuracy = 0.941\n",
      "\n",
      "EPOCH 7 ...\n",
      "Validation loss = 0.250\n",
      "Validation accuracy = 0.939\n",
      "\n",
      "EPOCH 8 ...\n",
      "Validation loss = 0.261\n",
      "Validation accuracy = 0.949\n",
      "\n",
      "EPOCH 9 ...\n",
      "Validation loss = 0.278\n",
      "Validation accuracy = 0.942\n",
      "\n",
      "EPOCH 10 ...\n",
      "Validation loss = 0.292\n",
      "Validation accuracy = 0.938\n",
      "\n"
     ]
    }
   ],
   "source": [
    "def eval_data(X_data, y_data):\n",
    "    \"\"\"\n",
    "    Given a dataset as input returns the loss and accuracy.\n",
    "    \"\"\"\n",
    "    num_examples = len(y_data)\n",
    "    total_acc, total_loss = 0, 0\n",
    "    sess = tf.get_default_session()\n",
    "    for batch in range(0, num_examples, BATCH_SIZE):\n",
    "        batch_x = X_data[batch:batch + BATCH_SIZE]\n",
    "        batch_y = y_data[batch:batch + BATCH_SIZE]\n",
    "        loss, acc = sess.run([loss_op, accuracy_op], feed_dict={x: batch_x, y: batch_y, keep_prob: 1.0})\n",
    "        total_acc += (acc * batch_x.shape[0])\n",
    "        total_loss += (loss * batch_x.shape[0])\n",
    "    return total_loss/num_examples, total_acc/num_examples\n",
    "\n",
    "\n",
    "saver = tf.train.Saver()\n",
    "save_file = './train_model.ckpt'\n",
    "\n",
    "with tf.Session() as sess:\n",
    "    sess.run(tf.global_variables_initializer())\n",
    "    num_examples = len(y_train)\n",
    "\n",
    "    # Train model\n",
    "    for i in range(EPOCHS):\n",
    "        for batch in range(0, num_examples, BATCH_SIZE):\n",
    "            batch_x = X_train[batch:batch+BATCH_SIZE]\n",
    "            batch_y = y_train[batch:batch+BATCH_SIZE]\n",
    "            loss = sess.run(train_op, feed_dict={x: batch_x, y: batch_y, keep_prob: dropout})\n",
    "\n",
    "        val_loss, val_acc = eval_data(X_valid, y_valid)\n",
    "        print(\"EPOCH {} ...\".format(i+1))\n",
    "        print(\"Validation loss = {:.3f}\".format(val_loss))\n",
    "        print(\"Validation accuracy = {:.3f}\".format(val_acc))\n",
    "        print()\n",
    "\n",
    "    saver.save(sess, save_file)"
   ]
  },
  {
   "cell_type": "code",
   "execution_count": 27,
   "metadata": {},
   "outputs": [
    {
     "name": "stdout",
     "output_type": "stream",
     "text": [
      "Test loss = 0.427\n",
      "Test accuracy = 0.911\n"
     ]
    }
   ],
   "source": [
    "## Testing Against Provided Test Dataset\n",
    "with tf.Session() as sess:\n",
    "    saver.restore(sess, save_file)   # Evaluate on the test data\n",
    "    test_loss, test_acc = eval_data(X_test, y_test)\n",
    "    print(\"Test loss = {:.3f}\".format(test_loss))\n",
    "    print(\"Test accuracy = {:.3f}\".format(test_acc))"
   ]
  },
  {
   "cell_type": "markdown",
   "metadata": {
    "collapsed": true
   },
   "source": [
    "## Testing Against New Images\n",
    "\n",
    "I have found a few images from the web of various German traffic signs. We will use the trained model to classify these signs. I have cropped and resized the images to match the expected input of the network."
   ]
  },
  {
   "cell_type": "code",
   "execution_count": 28,
   "metadata": {},
   "outputs": [
    {
     "name": "stdout",
     "output_type": "stream",
     "text": [
      "Result:  [[  9.99872804e-01   1.27211664e-04   3.92442665e-08   2.19688512e-09\n",
      "    1.55113943e-12]] [[ 9 13 12 41 15]]\n"
     ]
    },
    {
     "data": {
      "text/markdown": [
       "\n",
       "| ![filename](samples/nopassing.png 'file') Sign Classification | SoftMax Probabilities |\n",
       "| ------------------------------ | ----------- |\n",
       "| No passing | 0.99987 |\n",
       "| Yield | 0.00013 |\n",
       "| Priority road | 0.00000 |\n",
       "| End of no passing | 0.00000 |\n",
       "| No vehicles | 0.00000 |\n"
      ],
      "text/plain": [
       "<IPython.core.display.Markdown object>"
      ]
     },
     "metadata": {},
     "output_type": "display_data"
    },
    {
     "name": "stdout",
     "output_type": "stream",
     "text": [
      "Result:  [[  1.00000000e+00   2.33531161e-21   6.45759518e-23   2.97783553e-25\n",
      "    1.60854254e-26]] [[12 17 14 11 41]]\n"
     ]
    },
    {
     "data": {
      "text/markdown": [
       "\n",
       "| ![filename](samples/stop.png 'file') Sign Classification | SoftMax Probabilities |\n",
       "| ------------------------------ | ----------- |\n",
       "| Priority road | 1.00000 |\n",
       "| No entry | 0.00000 |\n",
       "| Stop | 0.00000 |\n",
       "| Right-of-way at the next intersection | 0.00000 |\n",
       "| End of no passing | 0.00000 |\n"
      ],
      "text/plain": [
       "<IPython.core.display.Markdown object>"
      ]
     },
     "metadata": {},
     "output_type": "display_data"
    },
    {
     "name": "stdout",
     "output_type": "stream",
     "text": [
      "I'm not sure why the stop sign classification failed. I suspect converting the images to a different color space would have helped with this classification.\n",
      "\n",
      "Result:  [[  1.00000000e+00   1.61206910e-33   0.00000000e+00   0.00000000e+00\n",
      "    0.00000000e+00]] [[13  9  0  1  2]]\n"
     ]
    },
    {
     "data": {
      "text/markdown": [
       "\n",
       "| ![filename](samples/yield.png 'file') Sign Classification | SoftMax Probabilities |\n",
       "| ------------------------------ | ----------- |\n",
       "| Yield | 1.00000 |\n",
       "| No passing | 0.00000 |\n",
       "| Speed limit (20km/h) | 0.00000 |\n",
       "| Speed limit (30km/h) | 0.00000 |\n",
       "| Speed limit (50km/h) | 0.00000 |\n"
      ],
      "text/plain": [
       "<IPython.core.display.Markdown object>"
      ]
     },
     "metadata": {},
     "output_type": "display_data"
    },
    {
     "name": "stdout",
     "output_type": "stream",
     "text": [
      "Result:  [[  1.00000000e+00   8.87767844e-23   2.27739636e-29   7.13354183e-33\n",
      "    3.96434322e-34]] [[38 32 41 36 40]]\n"
     ]
    },
    {
     "data": {
      "text/markdown": [
       "\n",
       "| ![filename](samples/direction.png 'file') Sign Classification | SoftMax Probabilities |\n",
       "| ------------------------------ | ----------- |\n",
       "| Keep right | 1.00000 |\n",
       "| End of all speed and passing limits | 0.00000 |\n",
       "| End of no passing | 0.00000 |\n",
       "| Go straight or right | 0.00000 |\n",
       "| Roundabout mandatory | 0.00000 |\n"
      ],
      "text/plain": [
       "<IPython.core.display.Markdown object>"
      ]
     },
     "metadata": {},
     "output_type": "display_data"
    },
    {
     "name": "stdout",
     "output_type": "stream",
     "text": [
      "Result:  [[  1.00000000e+00   1.47869225e-32   1.06874006e-34   0.00000000e+00\n",
      "    0.00000000e+00]] [[13 38 12  0  1]]\n"
     ]
    },
    {
     "data": {
      "text/markdown": [
       "\n",
       "| ![filename](samples/prohibited.png 'file') Sign Classification | SoftMax Probabilities |\n",
       "| ------------------------------ | ----------- |\n",
       "| Yield | 1.00000 |\n",
       "| Keep right | 0.00000 |\n",
       "| Priority road | 0.00000 |\n",
       "| Speed limit (20km/h) | 0.00000 |\n",
       "| Speed limit (30km/h) | 0.00000 |\n"
      ],
      "text/plain": [
       "<IPython.core.display.Markdown object>"
      ]
     },
     "metadata": {},
     "output_type": "display_data"
    },
    {
     "name": "stdout",
     "output_type": "stream",
     "text": [
      "Result:  [[  9.56342936e-01   4.08698544e-02   2.32058880e-03   4.46792546e-04\n",
      "    1.09398270e-05]] [[28 32 41 40  0]]\n"
     ]
    },
    {
     "data": {
      "text/markdown": [
       "\n",
       "| ![filename](samples/twenty.png 'file') Sign Classification | SoftMax Probabilities |\n",
       "| ------------------------------ | ----------- |\n",
       "| Children crossing | 0.95634 |\n",
       "| End of all speed and passing limits | 0.04087 |\n",
       "| End of no passing | 0.00232 |\n",
       "| Roundabout mandatory | 0.00045 |\n",
       "| Speed limit (20km/h) | 0.00001 |\n"
      ],
      "text/plain": [
       "<IPython.core.display.Markdown object>"
      ]
     },
     "metadata": {},
     "output_type": "display_data"
    }
   ],
   "source": [
    "import matplotlib.image as mpimg\n",
    "from IPython.display import display, Markdown\n",
    "\n",
    "top_k = tf.nn.top_k(tf.nn.softmax(logits), k=5)\n",
    "\n",
    "def classify_image(filename):\n",
    "    file = mpimg.imread(filename)\n",
    "    file = file[:,:,:3]\n",
    "    file = np.expand_dims(file, axis=0)\n",
    "    file = file * 2.0 - 1.0\n",
    "    sess = tf.get_default_session()\n",
    "    result = sess.run(top_k, feed_dict={x: file, keep_prob: 1.0})\n",
    "    output = \"\"\"\n",
    "| ![filename]({} 'file') Sign Classification | SoftMax Probabilities |\n",
    "| ------------------------------ | ----------- |\n",
    "\"\"\"\n",
    "    print(\"Result: \", result.values, result.indices)\n",
    "    for i in range(len(result.values[0])):\n",
    "        output += \"| {} | {:.5f} |\\n\".format(\n",
    "            sign_names[result.indices[0][i]],\n",
    "            result.values[0][i]\n",
    "        )\n",
    "    display(Markdown(output.format(filename)))\n",
    "    \n",
    "with tf.Session() as sess:\n",
    "    saver.restore(sess, save_file)\n",
    "    classify_image('samples/nopassing.png')\n",
    "    \n",
    "    classify_image('samples/stop.png')\n",
    "    print(\"I'm not sure why the stop sign classification failed. I suspect converting the images to a different color space would have helped with this classification.\")\n",
    "    print(\"\")\n",
    "    \n",
    "    classify_image('samples/yield.png')\n",
    "    classify_image('samples/direction.png')\n",
    "    classify_image('samples/prohibited.png')\n",
    "    classify_image('samples/twenty.png')"
   ]
  },
  {
   "cell_type": "markdown",
   "metadata": {},
   "source": [
    "## Conclusion\n",
    "\n",
    "For my \"real world\" tests the model performed at 60% efficiency. This is less that I would have expected. In hindsight using a different color space would likely have yielded better results."
   ]
  },
  {
   "cell_type": "code",
   "execution_count": null,
   "metadata": {
    "collapsed": true
   },
   "outputs": [],
   "source": []
  }
 ],
 "metadata": {
  "kernelspec": {
   "display_name": "Python 3",
   "language": "python",
   "name": "python3"
  },
  "language_info": {
   "codemirror_mode": {
    "name": "ipython",
    "version": 3
   },
   "file_extension": ".py",
   "mimetype": "text/x-python",
   "name": "python",
   "nbconvert_exporter": "python",
   "pygments_lexer": "ipython3",
   "version": "3.5.2"
  },
  "widgets": {
   "state": {},
   "version": "1.1.2"
  }
 },
 "nbformat": 4,
 "nbformat_minor": 2
}
